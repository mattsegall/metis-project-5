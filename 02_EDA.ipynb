{
 "cells": [
  {
   "cell_type": "code",
   "execution_count": 14,
   "id": "sitting-penalty",
   "metadata": {},
   "outputs": [],
   "source": [
    "import pandas as pd\n",
    "import numpy as np\n",
    "from collections import Counter\n",
    "\n",
    "import matplotlib.pyplot as plt\n",
    "import seaborn as sns"
   ]
  },
  {
   "cell_type": "code",
   "execution_count": 6,
   "id": "referenced-dynamics",
   "metadata": {},
   "outputs": [],
   "source": [
    "df = pd.read_pickle('childrens_book_df.pkl')"
   ]
  },
  {
   "cell_type": "code",
   "execution_count": 8,
   "id": "musical-prescription",
   "metadata": {},
   "outputs": [
    {
     "data": {
      "text/html": [
       "<div>\n",
       "<style scoped>\n",
       "    .dataframe tbody tr th:only-of-type {\n",
       "        vertical-align: middle;\n",
       "    }\n",
       "\n",
       "    .dataframe tbody tr th {\n",
       "        vertical-align: top;\n",
       "    }\n",
       "\n",
       "    .dataframe thead th {\n",
       "        text-align: right;\n",
       "    }\n",
       "</style>\n",
       "<table border=\"1\" class=\"dataframe\">\n",
       "  <thead>\n",
       "    <tr style=\"text-align: right;\">\n",
       "      <th></th>\n",
       "      <th>Title</th>\n",
       "      <th>Author</th>\n",
       "      <th>Chapter</th>\n",
       "      <th>NLP_Text</th>\n",
       "      <th>Readable_Text</th>\n",
       "    </tr>\n",
       "  </thead>\n",
       "  <tbody>\n",
       "    <tr>\n",
       "      <th>0</th>\n",
       "      <td>Prince Prigio</td>\n",
       "      <td>Andrew Lang</td>\n",
       "      <td>I</td>\n",
       "      <td>lcb chapter heading picture p1jpg rcb fairies ...</td>\n",
       "      <td>How the Fairies were not Invited to Court. Onc...</td>\n",
       "    </tr>\n",
       "    <tr>\n",
       "      <th>1</th>\n",
       "      <td>Prince Prigio</td>\n",
       "      <td>Andrew Lang</td>\n",
       "      <td>II</td>\n",
       "      <td>lcb chapter heading picture p9jpg rcb prince p...</td>\n",
       "      <td>Prince Prigio and his Family. Well, the little...</td>\n",
       "    </tr>\n",
       "    <tr>\n",
       "      <th>2</th>\n",
       "      <td>Prince Prigio</td>\n",
       "      <td>Andrew Lang</td>\n",
       "      <td>III</td>\n",
       "      <td>firedrake people like prigio dear papa king gr...</td>\n",
       "      <td>About the Firedrake. Of all the people who did...</td>\n",
       "    </tr>\n",
       "    <tr>\n",
       "      <th>3</th>\n",
       "      <td>Prince Prigio</td>\n",
       "      <td>Andrew Lang</td>\n",
       "      <td>IV</td>\n",
       "      <td>prince prigio deserted everybody meanwhile pri...</td>\n",
       "      <td>How Prince Prigio was Deserted by Everybody. M...</td>\n",
       "    </tr>\n",
       "    <tr>\n",
       "      <th>4</th>\n",
       "      <td>Prince Prigio</td>\n",
       "      <td>Andrew Lang</td>\n",
       "      <td>V</td>\n",
       "      <td>prince prigio found garret prince walked room ...</td>\n",
       "      <td>What Prince Prigio found in the Garret. The pr...</td>\n",
       "    </tr>\n",
       "  </tbody>\n",
       "</table>\n",
       "</div>"
      ],
      "text/plain": [
       "           Title         Author Chapter  \\\n",
       "0  Prince Prigio    Andrew Lang       I   \n",
       "1  Prince Prigio    Andrew Lang      II   \n",
       "2  Prince Prigio    Andrew Lang     III   \n",
       "3  Prince Prigio    Andrew Lang      IV   \n",
       "4  Prince Prigio    Andrew Lang       V   \n",
       "\n",
       "                                            NLP_Text  \\\n",
       "0  lcb chapter heading picture p1jpg rcb fairies ...   \n",
       "1  lcb chapter heading picture p9jpg rcb prince p...   \n",
       "2  firedrake people like prigio dear papa king gr...   \n",
       "3  prince prigio deserted everybody meanwhile pri...   \n",
       "4  prince prigio found garret prince walked room ...   \n",
       "\n",
       "                                       Readable_Text  \n",
       "0  How the Fairies were not Invited to Court. Onc...  \n",
       "1  Prince Prigio and his Family. Well, the little...  \n",
       "2  About the Firedrake. Of all the people who did...  \n",
       "3  How Prince Prigio was Deserted by Everybody. M...  \n",
       "4  What Prince Prigio found in the Garret. The pr...  "
      ]
     },
     "execution_count": 8,
     "metadata": {},
     "output_type": "execute_result"
    }
   ],
   "source": [
    "df.head()"
   ]
  },
  {
   "cell_type": "code",
   "execution_count": 12,
   "id": "heated-platform",
   "metadata": {},
   "outputs": [
    {
     "data": {
      "text/plain": [
       "[('said', 26435),\n",
       " ('nt', 25146),\n",
       " ('would', 16386),\n",
       " ('little', 16369),\n",
       " ('could', 13458),\n",
       " ('old', 11453),\n",
       " ('like', 10624),\n",
       " ('see', 9622),\n",
       " ('never', 9202),\n",
       " ('time', 8474),\n",
       " ('go', 8355),\n",
       " ('know', 8060),\n",
       " ('came', 8048),\n",
       " ('went', 7569),\n",
       " ('good', 7544),\n",
       " ('well', 7309),\n",
       " ('back', 6712),\n",
       " ('away', 6681),\n",
       " ('much', 6550),\n",
       " ('long', 6271)]"
      ]
     },
     "execution_count": 12,
     "metadata": {},
     "output_type": "execute_result"
    }
   ],
   "source": [
    "#find top 20 words in corpus\n",
    "common = Counter(\" \".join(df[\"NLP_Text\"]).split()).most_common(100)\n",
    "common[:20]"
   ]
  },
  {
   "cell_type": "code",
   "execution_count": 15,
   "id": "empirical-exposure",
   "metadata": {},
   "outputs": [
    {
     "data": {
      "image/png": "[encoded data removed]",
      "text/plain": [
       "<Figure size 1080x432 with 1 Axes>"
      ]
     },
     "metadata": {
      "needs_background": "light"
     },
     "output_type": "display_data"
    },
    {
     "data": {
      "text/plain": [
       "<Figure size 432x288 with 0 Axes>"
      ]
     },
     "metadata": {},
     "output_type": "display_data"
    }
   ],
   "source": [
    "#plot \n",
    "top_words = [item[0] for item in common]\n",
    "top_word_counts = [item[1] for item in common]\n",
    "\n",
    "sns.set_context('paper')\n",
    "\n",
    "f, ax = plt.subplots(figsize = (15,6))\n",
    "sns.set_color_codes('pastel')\n",
    "sns.barplot(x = top_word_counts[2:12], y = top_words[2:12],\n",
    "            label = '', color = 'b', edgecolor = 'w')\n",
    "sns.set_color_codes('muted')\n",
    "ax.set_xlabel('Word Frequency',fontsize=15)\n",
    "ax.set_ylabel('Word',fontsize=15)\n",
    "ax.set_title('Top 10 Words in Childrens Books', fontsize=20)\n",
    "sns.despine(left = True, bottom = True)\n",
    "plt.show()\n",
    "plt.savefig('top_10.png')"
   ]
  },
  {
   "cell_type": "code",
   "execution_count": null,
   "id": "earned-lafayette",
   "metadata": {},
   "outputs": [],
   "source": []
  }
 ],
 "metadata": {
  "kernelspec": {
   "display_name": "Python [conda env:metis] *",
   "language": "python",
   "name": "conda-env-metis-py"
  },
  "language_info": {
   "codemirror_mode": {
    "name": "ipython",
    "version": 3
   },
   "file_extension": ".py",
   "mimetype": "text/x-python",
   "name": "python",
   "nbconvert_exporter": "python",
   "pygments_lexer": "ipython3",
   "version": "3.8.6"
  }
 },
 "nbformat": 4,
 "nbformat_minor": 5
}
