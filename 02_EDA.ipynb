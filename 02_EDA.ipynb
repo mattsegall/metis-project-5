{
 "cells": [
  {
   "cell_type": "code",
   "execution_count": 5,
   "id": "sitting-penalty",
   "metadata": {},
   "outputs": [],
   "source": [
    "import pandas as pd\n",
    "import numpy as np\n",
    "from collections import Counter\n",
    "\n",
    "import matplotlib.pyplot as plt\n",
    "import seaborn as sns"
   ]
  },
  {
   "cell_type": "code",
   "execution_count": 6,
   "id": "referenced-dynamics",
   "metadata": {},
   "outputs": [],
   "source": [
    "df = pd.read_pickle('childrens_book_df.pkl')"
   ]
  },
  {
   "cell_type": "code",
   "execution_count": 7,
   "id": "musical-prescription",
   "metadata": {},
   "outputs": [
    {
     "data": {
      "text/html": [
       "<div>\n",
       "<style scoped>\n",
       "    .dataframe tbody tr th:only-of-type {\n",
       "        vertical-align: middle;\n",
       "    }\n",
       "\n",
       "    .dataframe tbody tr th {\n",
       "        vertical-align: top;\n",
       "    }\n",
       "\n",
       "    .dataframe thead th {\n",
       "        text-align: right;\n",
       "    }\n",
       "</style>\n",
       "<table border=\"1\" class=\"dataframe\">\n",
       "  <thead>\n",
       "    <tr style=\"text-align: right;\">\n",
       "      <th></th>\n",
       "      <th>Title</th>\n",
       "      <th>Author</th>\n",
       "      <th>Chapter</th>\n",
       "      <th>NLP_Text</th>\n",
       "      <th>Readable_Text</th>\n",
       "    </tr>\n",
       "  </thead>\n",
       "  <tbody>\n",
       "    <tr>\n",
       "      <th>0</th>\n",
       "      <td>Prince Prigio</td>\n",
       "      <td>Andrew Lang</td>\n",
       "      <td>I</td>\n",
       "      <td>lcb chapter heading picture p1jpg rcb fairies ...</td>\n",
       "      <td>How the Fairies were not Invited to Court. Onc...</td>\n",
       "    </tr>\n",
       "    <tr>\n",
       "      <th>1</th>\n",
       "      <td>Prince Prigio</td>\n",
       "      <td>Andrew Lang</td>\n",
       "      <td>II</td>\n",
       "      <td>lcb chapter heading picture p9jpg rcb prince p...</td>\n",
       "      <td>Prince Prigio and his Family. Well, the little...</td>\n",
       "    </tr>\n",
       "    <tr>\n",
       "      <th>2</th>\n",
       "      <td>Prince Prigio</td>\n",
       "      <td>Andrew Lang</td>\n",
       "      <td>III</td>\n",
       "      <td>firedrake people like prigio dear papa king gr...</td>\n",
       "      <td>About the Firedrake. Of all the people who did...</td>\n",
       "    </tr>\n",
       "    <tr>\n",
       "      <th>3</th>\n",
       "      <td>Prince Prigio</td>\n",
       "      <td>Andrew Lang</td>\n",
       "      <td>IV</td>\n",
       "      <td>prince prigio deserted everybody meanwhile pri...</td>\n",
       "      <td>How Prince Prigio was Deserted by Everybody. M...</td>\n",
       "    </tr>\n",
       "    <tr>\n",
       "      <th>4</th>\n",
       "      <td>Prince Prigio</td>\n",
       "      <td>Andrew Lang</td>\n",
       "      <td>V</td>\n",
       "      <td>prince prigio found garret prince walked room ...</td>\n",
       "      <td>What Prince Prigio found in the Garret. The pr...</td>\n",
       "    </tr>\n",
       "  </tbody>\n",
       "</table>\n",
       "</div>"
      ],
      "text/plain": [
       "           Title         Author Chapter  \\\n",
       "0  Prince Prigio    Andrew Lang       I   \n",
       "1  Prince Prigio    Andrew Lang      II   \n",
       "2  Prince Prigio    Andrew Lang     III   \n",
       "3  Prince Prigio    Andrew Lang      IV   \n",
       "4  Prince Prigio    Andrew Lang       V   \n",
       "\n",
       "                                            NLP_Text  \\\n",
       "0  lcb chapter heading picture p1jpg rcb fairies ...   \n",
       "1  lcb chapter heading picture p9jpg rcb prince p...   \n",
       "2  firedrake people like prigio dear papa king gr...   \n",
       "3  prince prigio deserted everybody meanwhile pri...   \n",
       "4  prince prigio found garret prince walked room ...   \n",
       "\n",
       "                                       Readable_Text  \n",
       "0  How the Fairies were not Invited to Court. Onc...  \n",
       "1  Prince Prigio and his Family. Well, the little...  \n",
       "2  About the Firedrake. Of all the people who did...  \n",
       "3  How Prince Prigio was Deserted by Everybody. M...  \n",
       "4  What Prince Prigio found in the Garret. The pr...  "
      ]
     },
     "execution_count": 7,
     "metadata": {},
     "output_type": "execute_result"
    }
   ],
   "source": [
    "df.head()"
   ]
  },
  {
   "cell_type": "code",
   "execution_count": 8,
   "id": "heated-platform",
   "metadata": {},
   "outputs": [
    {
     "data": {
      "text/plain": [
       "[('said', 26435),\n",
       " ('nt', 25146),\n",
       " ('would', 16386),\n",
       " ('little', 16369),\n",
       " ('could', 13458),\n",
       " ('old', 11453),\n",
       " ('like', 10624),\n",
       " ('see', 9622),\n",
       " ('never', 9202),\n",
       " ('time', 8474),\n",
       " ('go', 8355),\n",
       " ('know', 8060),\n",
       " ('came', 8048),\n",
       " ('went', 7569),\n",
       " ('good', 7544),\n",
       " ('well', 7309),\n",
       " ('back', 6712),\n",
       " ('away', 6681),\n",
       " ('much', 6550),\n",
       " ('long', 6271)]"
      ]
     },
     "execution_count": 8,
     "metadata": {},
     "output_type": "execute_result"
    }
   ],
   "source": [
    "#find top 20 words in corpus\n",
    "common = Counter(\" \".join(df[\"NLP_Text\"]).split()).most_common(100)\n",
    "common[:20]"
   ]
  },
  {
   "cell_type": "code",
   "execution_count": 45,
   "id": "empirical-exposure",
   "metadata": {},
   "outputs": [
    {
     "data": {
      "image/png": "[encoded data removed]",
      "text/plain": [
       "<Figure size 1080x432 with 1 Axes>"
      ]
     },
     "metadata": {
      "needs_background": "light"
     },
     "output_type": "display_data"
    },
    {
     "data": {
      "text/plain": [
       "<Figure size 432x288 with 0 Axes>"
      ]
     },
     "metadata": {},
     "output_type": "display_data"
    }
   ],
   "source": [
    "#plot \n",
    "top_words = [item[0] for item in common]\n",
    "top_word_counts = [item[1] for item in common]\n",
    "\n",
    "sns.set_context('paper')\n",
    "\n",
    "f, ax = plt.subplots(figsize = (15,6))\n",
    "sns.set_color_codes('pastel')\n",
    "sns.barplot(x = top_word_counts[2:12], y = top_words[2:12],\n",
    "            label = '', color = 'b', edgecolor = 'w')\n",
    "sns.set_color_codes('muted')\n",
    "ax.set_xlabel('Word Frequency',fontsize=15)\n",
    "ax.set_ylabel('Word',fontsize=15)\n",
    "ax.set_title('Top 10 Words in Childrens Books', fontsize=20)\n",
    "sns.despine(left = True, bottom = True)\n",
    "plt.show()\n",
    "plt.savefig('top_10.png')"
   ]
  },
  {
   "cell_type": "code",
   "execution_count": 10,
   "id": "earned-lafayette",
   "metadata": {},
   "outputs": [],
   "source": [
    "#initialize dict to store relevant letter combinations for sounds\n",
    "phonics_dict = {\n",
    "    \"diphthongs\": [\"oo\", \"ou\", \"ow\", \"oi\", \"oy\", \"aw\", \"au\", \"ie\", \"igh\", \"ay\", \"ee\"], \n",
    "    \"ending blends\":[\"mp\", \"ng\", \"nt\", \"nk\", \"nd\", \"sk\", \"st\"], \n",
    "    \"l blends\": [\"bl\", \"cl\", \"gl\", \"pl\", \"sl\"], \n",
    "    \"r blends\": [\"br\", \"cr\", \"dr\", \"fr\", \"gr\", \"pr\", \"tr\"], \n",
    "    \"s blends\": [\"sc\", \"sk\", \"sl\", \"sm\", \"sn\", \"sp\", \"st\", \"str\", \"scr\", \"spl\"], \n",
    "    \"digraphs\": [\"ch\", \"ph\", \"sh\", \"wh\", \"tch\", \"th\", \"gh\"], \n",
    "    \"soft c\": [\"ce\", \"ci\", \"cy\"], \n",
    "    \"soft g\": [\"ge\", \"dge\", \"gi\", \"gy\"], \n",
    "    \"silent letters\": [\"kn\", \"wr\", \"gn\"]\n",
    "}"
   ]
  },
  {
   "cell_type": "code",
   "execution_count": 11,
   "id": "humanitarian-recipe",
   "metadata": {},
   "outputs": [],
   "source": [
    "#get all dictionary keys into list to loop through\n",
    "phonics = phonics_dict.values()\n",
    "phonics_flat = [item for sublist in phonics for item in sublist]"
   ]
  },
  {
   "cell_type": "code",
   "execution_count": 14,
   "id": "conscious-metabolism",
   "metadata": {},
   "outputs": [],
   "source": [
    "#get frequency of all sounds\n",
    "count = {}.fromkeys(phonics_flat, 0) #initialize dict\n",
    "\n",
    "#loop through list of sounds and count all occurences in column, update dict\n",
    "for sound in phonics_flat:\n",
    "    sum = df.Readable_Text.str.count(sound).sum()\n",
    "    count[sound] = sum\n"
   ]
  },
  {
   "cell_type": "code",
   "execution_count": 17,
   "id": "gross-bracelet",
   "metadata": {},
   "outputs": [],
   "source": [
    "#count individual sounds\n",
    "count_ind = count"
   ]
  },
  {
   "cell_type": "code",
   "execution_count": 29,
   "id": "powered-trouble",
   "metadata": {},
   "outputs": [
    {
     "data": {
      "text/plain": [
       "{'oo': 74109,\n",
       " 'ou': 216993,\n",
       " 'ow': 84330,\n",
       " 'oi': 14560,\n",
       " 'oy': 10100,\n",
       " 'aw': 18473,\n",
       " 'au': 20896,\n",
       " 'ie': 45862,\n",
       " 'igh': 31956,\n",
       " 'ay': 53295,\n",
       " 'ee': 80344,\n",
       " 'mp': 15225,\n",
       " 'ng': 173011,\n",
       " 'nt': 86916,\n",
       " 'nk': 17312,\n",
       " 'nd': 264752,\n",
       " 'sk': 11605,\n",
       " 'st': 134058,\n",
       " 'bl': 27132,\n",
       " 'cl': 15415,\n",
       " 'gl': 12184,\n",
       " 'pl': 29269,\n",
       " 'sl': 11611,\n",
       " 'br': 20818,\n",
       " 'cr': 19676,\n",
       " 'dr': 18077,\n",
       " 'fr': 24917,\n",
       " 'gr': 26382,\n",
       " 'pr': 29491,\n",
       " 'tr': 38555,\n",
       " 'sc': 12265,\n",
       " 'sm': 7468,\n",
       " 'sn': 3213,\n",
       " 'sp': 22698,\n",
       " 'str': 12186,\n",
       " 'scr': 2048,\n",
       " 'spl': 1626,\n",
       " 'ch': 72320,\n",
       " 'ph': 3937,\n",
       " 'sh': 85637,\n",
       " 'wh': 73083,\n",
       " 'tch': 8514,\n",
       " 'th': 528767,\n",
       " 'gh': 62904,\n",
       " 'ce': 61289,\n",
       " 'ci': 12738,\n",
       " 'cy': 1875,\n",
       " 'ge': 40644,\n",
       " 'dge': 2681,\n",
       " 'gi': 19724,\n",
       " 'gy': 659,\n",
       " 'kn': 17955,\n",
       " 'wr': 4150,\n",
       " 'gn': 3054}"
      ]
     },
     "execution_count": 29,
     "metadata": {},
     "output_type": "execute_result"
    }
   ],
   "source": [
    "count_ind"
   ]
  },
  {
   "cell_type": "code",
   "execution_count": 36,
   "id": "charged-mirror",
   "metadata": {},
   "outputs": [],
   "source": [
    "#get totals by group\n",
    "count_group = {}.fromkeys(phonics_dict, 0)\n",
    "\n",
    "for group in phonics_dict:\n",
    "    for sound in phonics_dict[group]:\n",
    "        count_group[group] += count_ind[sound]"
   ]
  },
  {
   "cell_type": "code",
   "execution_count": 38,
   "id": "desperate-stroke",
   "metadata": {},
   "outputs": [
    {
     "data": {
      "text/plain": [
       "{'diphthongs': 650918,\n",
       " 'ending blends': 702879,\n",
       " 'l blends': 95611,\n",
       " 'r blends': 177916,\n",
       " 's blends': 218778,\n",
       " 'digraphs': 835162,\n",
       " 'soft c': 75902,\n",
       " 'soft g': 63708,\n",
       " 'silent letters': 25159}"
      ]
     },
     "execution_count": 38,
     "metadata": {},
     "output_type": "execute_result"
    }
   ],
   "source": [
    "count_group"
   ]
  },
  {
   "cell_type": "code",
   "execution_count": 71,
   "id": "alpha-vietnam",
   "metadata": {},
   "outputs": [
    {
     "name": "stderr",
     "output_type": "stream",
     "text": [
      "<ipython-input-71-c3af0a418215>:13: UserWarning: FixedFormatter should only be used together with FixedLocator\n",
      "  ax.set_yticklabels(ax.get_yticks(), size = 15)\n",
      "<ipython-input-71-c3af0a418215>:14: UserWarning: FixedFormatter should only be used together with FixedLocator\n",
      "  ax.set_yticklabels(ax.get_yticks().astype(int))\n"
     ]
    },
    {
     "data": {
      "image/png": "[encoded data removed]",
      "text/plain": [
       "<Figure size 1080x432 with 1 Axes>"
      ]
     },
     "metadata": {},
     "output_type": "display_data"
    }
   ],
   "source": [
    "keys = list(count_group.keys())\n",
    "counts = [int(count_group[k] / 1000) for k in keys]\n",
    "\n",
    "sns.set_context('paper')\n",
    "\n",
    "f, ax = plt.subplots(figsize = (15,6))\n",
    "sns.set_color_codes('pastel')\n",
    "sns.barplot(x = keys , y = counts,\n",
    "            label = '', color = 'b', edgecolor = 'w')\n",
    "sns.set_color_codes('muted')\n",
    "ax.set_xlabel('Sound Group',fontsize=18)\n",
    "ax.set_ylabel('Count (in thousands)',fontsize=18)\n",
    "ax.set_yticklabels(ax.get_yticks(), size = 15)\n",
    "ax.set_yticklabels(ax.get_yticks().astype(int))\n",
    "ax.set_xticklabels(count_group.keys(), size = 15)\n",
    "ax.set_title('Frequency of Phonic Groups', fontsize=20)\n",
    "sns.despine(left = True, bottom = True)\n",
    "plt.savefig('Count_Groups.jpg')\n",
    "plt.show()"
   ]
  },
  {
   "cell_type": "code",
   "execution_count": null,
   "id": "female-circle",
   "metadata": {},
   "outputs": [],
   "source": []
  },
  {
   "cell_type": "code",
   "execution_count": null,
   "id": "secure-commonwealth",
   "metadata": {},
   "outputs": [],
   "source": []
  }
 ],
 "metadata": {
  "kernelspec": {
   "display_name": "Python [conda env:metis] *",
   "language": "python",
   "name": "conda-env-metis-py"
  },
  "language_info": {
   "codemirror_mode": {
    "name": "ipython",
    "version": 3
   },
   "file_extension": ".py",
   "mimetype": "text/x-python",
   "name": "python",
   "nbconvert_exporter": "python",
   "pygments_lexer": "ipython3",
   "version": "3.8.6"
  }
 },
 "nbformat": 4,
 "nbformat_minor": 5
}
